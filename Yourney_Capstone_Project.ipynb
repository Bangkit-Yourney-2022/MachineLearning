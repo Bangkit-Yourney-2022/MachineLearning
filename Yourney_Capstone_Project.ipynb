{
  "nbformat": 4,
  "nbformat_minor": 0,
  "metadata": {
    "colab": {
      "name": "Capstone v2.ipynb",
      "provenance": [],
      "collapsed_sections": [
        "8YmfR_9S-he_",
        "J2QKTenS-s3G",
        "qE0eY4yI_Y-D",
        "H7mMgXMnoZzH",
        "J2rhfvjTmZAX",
        "Qs1tYwOlmRjK",
        "pzIhS_ezonQX",
        "UNCCkRi2osfX",
        "ZVaaCfFDo6I9",
        "9CWOp-o5o_dL"
      ]
    },
    "kernelspec": {
      "name": "python3",
      "display_name": "Python 3"
    },
    "language_info": {
      "name": "python"
    }
  },
  "cells": [
    {
      "cell_type": "markdown",
      "source": [
        "Upload \"Mental_Health_FAQ.csv\" dan \"stopwords.txt\" Sebelum Run Code"
      ],
      "metadata": {
        "id": "akZZiRq4o42k"
      }
    },
    {
      "cell_type": "markdown",
      "source": [
        "# **Import Library**"
      ],
      "metadata": {
        "id": "8YmfR_9S-he_"
      }
    },
    {
      "cell_type": "code",
      "execution_count": null,
      "metadata": {
        "id": "IqtjwVpv-fNq"
      },
      "outputs": [],
      "source": [
        "import numpy as np\n",
        "import tensorflow as tf\n",
        "import pandas as pd\n",
        "import re\n",
        "from tensorflow.keras.preprocessing.text import Tokenizer\n",
        "from tensorflow.keras.preprocessing.sequence import pad_sequences\n",
        "from sklearn.preprocessing import LabelEncoder\n",
        "import string"
      ]
    },
    {
      "cell_type": "markdown",
      "source": [
        "# **Read File**"
      ],
      "metadata": {
        "id": "J2QKTenS-s3G"
      }
    },
    {
      "cell_type": "code",
      "source": [
        "df = pd.read_csv('Mental_Health_FAQ.csv')"
      ],
      "metadata": {
        "id": "wPAVGopB-vnC"
      },
      "execution_count": null,
      "outputs": []
    },
    {
      "cell_type": "code",
      "source": [
        "df.drop('Question_ID', axis=1, inplace=True)"
      ],
      "metadata": {
        "id": "YvrdkFEL_O5k"
      },
      "execution_count": null,
      "outputs": []
    },
    {
      "cell_type": "markdown",
      "source": [
        "# **Split**"
      ],
      "metadata": {
        "id": "qE0eY4yI_Y-D"
      }
    },
    {
      "cell_type": "code",
      "source": [
        "question = df['Questions'].tolist()\n",
        "answer = df['Answers'].tolist()"
      ],
      "metadata": {
        "id": "YDGSsCZj_Yse"
      },
      "execution_count": null,
      "outputs": []
    },
    {
      "cell_type": "markdown",
      "source": [
        "# **LowerCase**"
      ],
      "metadata": {
        "id": "H7mMgXMnoZzH"
      }
    },
    {
      "cell_type": "code",
      "source": [
        "question = [q.lower() for q in question]\n",
        "answer = [a.lower() for a in answer]"
      ],
      "metadata": {
        "id": "7uu8-DhJobiN"
      },
      "execution_count": null,
      "outputs": []
    },
    {
      "cell_type": "markdown",
      "source": [
        "# **StopWords**"
      ],
      "metadata": {
        "id": "J2rhfvjTmZAX"
      }
    },
    {
      "cell_type": "code",
      "source": [
        "stopwords = []\n",
        "with open('stopwords.txt', encoding='utf-8') as f:\n",
        "  for line in f:\n",
        "    stopwords.append(line.strip())"
      ],
      "metadata": {
        "id": "jpawkoDWmalw"
      },
      "execution_count": null,
      "outputs": []
    },
    {
      "cell_type": "markdown",
      "source": [
        "# **Cleaning**"
      ],
      "metadata": {
        "id": "Qs1tYwOlmRjK"
      }
    },
    {
      "cell_type": "code",
      "source": [
        "question_clean = []\n",
        "for i in question:\n",
        "  temp = [w for w in i.split() if w not in stopwords]\n",
        "  temp = \" \".join(temp)\n",
        "  temp = re.sub(r'[.,’\"\\'-?:!;]', '', temp)\n",
        "  temp = re.sub(r'^whats|^im', '', temp)\n",
        "  question_clean.append(temp.strip())"
      ],
      "metadata": {
        "id": "zpJrT2NSmUVq"
      },
      "execution_count": null,
      "outputs": []
    },
    {
      "cell_type": "code",
      "source": [
        "answer_clean = []\n",
        "for i in answer:\n",
        "  temp = [w for w in i.split()]\n",
        "  temp = \" \".join(temp)\n",
        "  temp = temp.encode(\"ascii\", \"ignore\")\n",
        "  answer_clean.append(temp.decode())"
      ],
      "metadata": {
        "id": "N15ChZ9dviru"
      },
      "execution_count": null,
      "outputs": []
    },
    {
      "cell_type": "markdown",
      "source": [
        "# **Tokenizing & Padding**"
      ],
      "metadata": {
        "id": "pzIhS_ezonQX"
      }
    },
    {
      "cell_type": "code",
      "source": [
        "def fit_tokenizer(train_sentences, num_words, oov_token, max_len):\n",
        "    \n",
        "    tokenizer = Tokenizer(num_words=num_words, oov_token=oov_token)\n",
        "\n",
        "    \n",
        "    tokenizer.fit_on_texts(train_sentences)\n",
        "    sequences = tokenizer.texts_to_sequences(train_sentences)\n",
        "    padd_seq = pad_sequences(sequences, truncating='post', maxlen=max_len)\n",
        "    \n",
        "    return padd_seq, tokenizer"
      ],
      "metadata": {
        "id": "HSl3fqIcmf_8"
      },
      "execution_count": null,
      "outputs": []
    },
    {
      "cell_type": "code",
      "source": [
        "train_seq, tokenizer = fit_tokenizer(question_clean, 1000, \"<OOV>\", 100)"
      ],
      "metadata": {
        "id": "I4W9Apqvmm2i"
      },
      "execution_count": null,
      "outputs": []
    },
    {
      "cell_type": "code",
      "source": [
        "lb = LabelEncoder()\n",
        "val_label_seq = lb.fit_transform(answer_clean)\n"
      ],
      "metadata": {
        "id": "tXctupIkjKv4"
      },
      "execution_count": null,
      "outputs": []
    },
    {
      "cell_type": "markdown",
      "source": [
        "# **Modelling**"
      ],
      "metadata": {
        "id": "UNCCkRi2osfX"
      }
    },
    {
      "cell_type": "code",
      "source": [
        "class Callback(tf.keras.callbacks.Callback):\n",
        "    # Define the method that checks the accuracy at the end of each epoch\n",
        "    def on_epoch_end(self, epoch, logs={}):\n",
        "        if logs.get('accuracy') is not None and logs.get('accuracy') > 0.90:\n",
        "            print(\"\\n\\nAccuracy Has Been Achieved Around 90%, Training Stop!\\n\")\n",
        "            self.model.stop_training = True"
      ],
      "metadata": {
        "id": "2bWfF62qkTQ0"
      },
      "execution_count": null,
      "outputs": []
    },
    {
      "cell_type": "code",
      "source": [
        "def create_model(vocab_size, embedding_dim, maxlen):\n",
        "    \n",
        "    model = tf.keras.Sequential([ \n",
        "        tf.keras.layers.Embedding(vocab_size+1, embedding_dim, input_length=maxlen),\n",
        "        tf.keras.layers.GlobalMaxPooling1D(),\n",
        "        tf.keras.layers.Dropout(0.2),\n",
        "        tf.keras.layers.Dense(512, activation='relu'),\n",
        "        tf.keras.layers.Dense(98, activation='softmax')\n",
        "    ])\n",
        "    \n",
        "    model.compile(loss='sparse_categorical_crossentropy',\n",
        "                  optimizer='adam',\n",
        "                  metrics=['accuracy']) \n",
        "\n",
        "\n",
        "    return model"
      ],
      "metadata": {
        "id": "88Pdk5KYDdx1"
      },
      "execution_count": null,
      "outputs": []
    },
    {
      "cell_type": "code",
      "source": [
        "model = create_model(len(tokenizer.word_index), 16, 100)\n",
        "history = model.fit(train_seq, val_label_seq, epochs=100, callbacks=[Callback()])"
      ],
      "metadata": {
        "id": "dsdVgzotD_G3",
        "colab": {
          "base_uri": "https://localhost:8080/"
        },
        "outputId": "c0f5b92b-3030-4380-f25a-13f2e42cc34a"
      },
      "execution_count": null,
      "outputs": [
        {
          "output_type": "stream",
          "name": "stdout",
          "text": [
            "Epoch 1/100\n",
            "4/4 [==============================] - 0s 5ms/step - loss: 4.5880 - accuracy: 0.0000e+00\n",
            "Epoch 2/100\n",
            "4/4 [==============================] - 0s 5ms/step - loss: 4.5823 - accuracy: 0.0408\n",
            "Epoch 3/100\n",
            "4/4 [==============================] - 0s 6ms/step - loss: 4.5813 - accuracy: 0.0204\n",
            "Epoch 4/100\n",
            "4/4 [==============================] - 0s 4ms/step - loss: 4.5783 - accuracy: 0.0510\n",
            "Epoch 5/100\n",
            "4/4 [==============================] - 0s 4ms/step - loss: 4.5757 - accuracy: 0.0612\n",
            "Epoch 6/100\n",
            "4/4 [==============================] - 0s 4ms/step - loss: 4.5725 - accuracy: 0.0612\n",
            "Epoch 7/100\n",
            "4/4 [==============================] - 0s 4ms/step - loss: 4.5691 - accuracy: 0.0408\n",
            "Epoch 8/100\n",
            "4/4 [==============================] - 0s 4ms/step - loss: 4.5655 - accuracy: 0.0204\n",
            "Epoch 9/100\n",
            "4/4 [==============================] - 0s 4ms/step - loss: 4.5610 - accuracy: 0.0306\n",
            "Epoch 10/100\n",
            "4/4 [==============================] - 0s 4ms/step - loss: 4.5584 - accuracy: 0.0306\n",
            "Epoch 11/100\n",
            "4/4 [==============================] - 0s 4ms/step - loss: 4.5507 - accuracy: 0.0612\n",
            "Epoch 12/100\n",
            "4/4 [==============================] - 0s 4ms/step - loss: 4.5442 - accuracy: 0.0510\n",
            "Epoch 13/100\n",
            "4/4 [==============================] - 0s 4ms/step - loss: 4.5379 - accuracy: 0.0714\n",
            "Epoch 14/100\n",
            "4/4 [==============================] - 0s 4ms/step - loss: 4.5275 - accuracy: 0.0816\n",
            "Epoch 15/100\n",
            "4/4 [==============================] - 0s 4ms/step - loss: 4.5185 - accuracy: 0.0714\n",
            "Epoch 16/100\n",
            "4/4 [==============================] - 0s 5ms/step - loss: 4.5065 - accuracy: 0.1224\n",
            "Epoch 17/100\n",
            "4/4 [==============================] - 0s 4ms/step - loss: 4.4959 - accuracy: 0.1122\n",
            "Epoch 18/100\n",
            "4/4 [==============================] - 0s 5ms/step - loss: 4.4781 - accuracy: 0.1020\n",
            "Epoch 19/100\n",
            "4/4 [==============================] - 0s 5ms/step - loss: 4.4636 - accuracy: 0.0816\n",
            "Epoch 20/100\n",
            "4/4 [==============================] - 0s 5ms/step - loss: 4.4412 - accuracy: 0.0612\n",
            "Epoch 21/100\n",
            "4/4 [==============================] - 0s 6ms/step - loss: 4.4212 - accuracy: 0.0612\n",
            "Epoch 22/100\n",
            "4/4 [==============================] - 0s 4ms/step - loss: 4.4016 - accuracy: 0.0612\n",
            "Epoch 23/100\n",
            "4/4 [==============================] - 0s 5ms/step - loss: 4.3729 - accuracy: 0.0306\n",
            "Epoch 24/100\n",
            "4/4 [==============================] - 0s 5ms/step - loss: 4.3525 - accuracy: 0.0306\n",
            "Epoch 25/100\n",
            "4/4 [==============================] - 0s 4ms/step - loss: 4.3074 - accuracy: 0.0306\n",
            "Epoch 26/100\n",
            "4/4 [==============================] - 0s 5ms/step - loss: 4.2821 - accuracy: 0.0612\n",
            "Epoch 27/100\n",
            "4/4 [==============================] - 0s 5ms/step - loss: 4.2561 - accuracy: 0.0816\n",
            "Epoch 28/100\n",
            "4/4 [==============================] - 0s 6ms/step - loss: 4.2168 - accuracy: 0.0918\n",
            "Epoch 29/100\n",
            "4/4 [==============================] - 0s 4ms/step - loss: 4.1748 - accuracy: 0.1020\n",
            "Epoch 30/100\n",
            "4/4 [==============================] - 0s 4ms/step - loss: 4.1263 - accuracy: 0.1020\n",
            "Epoch 31/100\n",
            "4/4 [==============================] - 0s 4ms/step - loss: 4.0833 - accuracy: 0.1633\n",
            "Epoch 32/100\n",
            "4/4 [==============================] - 0s 4ms/step - loss: 4.0323 - accuracy: 0.1735\n",
            "Epoch 33/100\n",
            "4/4 [==============================] - 0s 5ms/step - loss: 3.9750 - accuracy: 0.1837\n",
            "Epoch 34/100\n",
            "4/4 [==============================] - 0s 5ms/step - loss: 3.9154 - accuracy: 0.2449\n",
            "Epoch 35/100\n",
            "4/4 [==============================] - 0s 5ms/step - loss: 3.8757 - accuracy: 0.2347\n",
            "Epoch 36/100\n",
            "4/4 [==============================] - 0s 5ms/step - loss: 3.8157 - accuracy: 0.2347\n",
            "Epoch 37/100\n",
            "4/4 [==============================] - 0s 6ms/step - loss: 3.7560 - accuracy: 0.2143\n",
            "Epoch 38/100\n",
            "4/4 [==============================] - 0s 4ms/step - loss: 3.7067 - accuracy: 0.3163\n",
            "Epoch 39/100\n",
            "4/4 [==============================] - 0s 6ms/step - loss: 3.6400 - accuracy: 0.3061\n",
            "Epoch 40/100\n",
            "4/4 [==============================] - 0s 4ms/step - loss: 3.5685 - accuracy: 0.3061\n",
            "Epoch 41/100\n",
            "4/4 [==============================] - 0s 5ms/step - loss: 3.4770 - accuracy: 0.3469\n",
            "Epoch 42/100\n",
            "4/4 [==============================] - 0s 4ms/step - loss: 3.3899 - accuracy: 0.4388\n",
            "Epoch 43/100\n",
            "4/4 [==============================] - 0s 5ms/step - loss: 3.3784 - accuracy: 0.3878\n",
            "Epoch 44/100\n",
            "4/4 [==============================] - 0s 5ms/step - loss: 3.2571 - accuracy: 0.4082\n",
            "Epoch 45/100\n",
            "4/4 [==============================] - 0s 4ms/step - loss: 3.1981 - accuracy: 0.4388\n",
            "Epoch 46/100\n",
            "4/4 [==============================] - 0s 6ms/step - loss: 3.1131 - accuracy: 0.4592\n",
            "Epoch 47/100\n",
            "4/4 [==============================] - 0s 4ms/step - loss: 3.0094 - accuracy: 0.5204\n",
            "Epoch 48/100\n",
            "4/4 [==============================] - 0s 4ms/step - loss: 2.9752 - accuracy: 0.4796\n",
            "Epoch 49/100\n",
            "4/4 [==============================] - 0s 4ms/step - loss: 2.9170 - accuracy: 0.4898\n",
            "Epoch 50/100\n",
            "4/4 [==============================] - 0s 4ms/step - loss: 2.8355 - accuracy: 0.5204\n",
            "Epoch 51/100\n",
            "4/4 [==============================] - 0s 5ms/step - loss: 2.7528 - accuracy: 0.5918\n",
            "Epoch 52/100\n",
            "4/4 [==============================] - 0s 4ms/step - loss: 2.6790 - accuracy: 0.5918\n",
            "Epoch 53/100\n",
            "4/4 [==============================] - 0s 4ms/step - loss: 2.6409 - accuracy: 0.6633\n",
            "Epoch 54/100\n",
            "4/4 [==============================] - 0s 5ms/step - loss: 2.5566 - accuracy: 0.6122\n",
            "Epoch 55/100\n",
            "4/4 [==============================] - 0s 4ms/step - loss: 2.4345 - accuracy: 0.6531\n",
            "Epoch 56/100\n",
            "4/4 [==============================] - 0s 5ms/step - loss: 2.3899 - accuracy: 0.6735\n",
            "Epoch 57/100\n",
            "4/4 [==============================] - 0s 5ms/step - loss: 2.3693 - accuracy: 0.6939\n",
            "Epoch 58/100\n",
            "4/4 [==============================] - 0s 4ms/step - loss: 2.2520 - accuracy: 0.7143\n",
            "Epoch 59/100\n",
            "4/4 [==============================] - 0s 4ms/step - loss: 2.1416 - accuracy: 0.6837\n",
            "Epoch 60/100\n",
            "4/4 [==============================] - 0s 5ms/step - loss: 2.0592 - accuracy: 0.7245\n",
            "Epoch 61/100\n",
            "4/4 [==============================] - 0s 6ms/step - loss: 2.0291 - accuracy: 0.7245\n",
            "Epoch 62/100\n",
            "4/4 [==============================] - 0s 4ms/step - loss: 1.9706 - accuracy: 0.7143\n",
            "Epoch 63/100\n",
            "4/4 [==============================] - 0s 4ms/step - loss: 1.8417 - accuracy: 0.7959\n",
            "Epoch 64/100\n",
            "4/4 [==============================] - 0s 4ms/step - loss: 1.8550 - accuracy: 0.6837\n",
            "Epoch 65/100\n",
            "4/4 [==============================] - 0s 5ms/step - loss: 1.7729 - accuracy: 0.7347\n",
            "Epoch 66/100\n",
            "4/4 [==============================] - 0s 7ms/step - loss: 1.7344 - accuracy: 0.7551\n",
            "Epoch 67/100\n",
            "4/4 [==============================] - 0s 5ms/step - loss: 1.6903 - accuracy: 0.7857\n",
            "Epoch 68/100\n",
            "4/4 [==============================] - 0s 4ms/step - loss: 1.6271 - accuracy: 0.7653\n",
            "Epoch 69/100\n",
            "4/4 [==============================] - 0s 5ms/step - loss: 1.6080 - accuracy: 0.7959\n",
            "Epoch 70/100\n",
            "4/4 [==============================] - 0s 4ms/step - loss: 1.5615 - accuracy: 0.7857\n",
            "Epoch 71/100\n",
            "4/4 [==============================] - 0s 4ms/step - loss: 1.4165 - accuracy: 0.8878\n",
            "Epoch 72/100\n",
            "4/4 [==============================] - 0s 4ms/step - loss: 1.4500 - accuracy: 0.7653\n",
            "Epoch 73/100\n",
            "4/4 [==============================] - 0s 5ms/step - loss: 1.4549 - accuracy: 0.7755\n",
            "Epoch 74/100\n",
            "4/4 [==============================] - 0s 5ms/step - loss: 1.3958 - accuracy: 0.7551\n",
            "Epoch 75/100\n",
            "4/4 [==============================] - 0s 5ms/step - loss: 1.2700 - accuracy: 0.8469\n",
            "Epoch 76/100\n",
            "4/4 [==============================] - 0s 4ms/step - loss: 1.2781 - accuracy: 0.8061\n",
            "Epoch 77/100\n",
            "4/4 [==============================] - 0s 4ms/step - loss: 1.3518 - accuracy: 0.7755\n",
            "Epoch 78/100\n",
            "4/4 [==============================] - 0s 5ms/step - loss: 1.2563 - accuracy: 0.7857\n",
            "Epoch 79/100\n",
            "4/4 [==============================] - 0s 4ms/step - loss: 1.1908 - accuracy: 0.8469\n",
            "Epoch 80/100\n",
            "4/4 [==============================] - 0s 5ms/step - loss: 1.1555 - accuracy: 0.8265\n",
            "Epoch 81/100\n",
            "4/4 [==============================] - 0s 4ms/step - loss: 1.1537 - accuracy: 0.7551\n",
            "Epoch 82/100\n",
            "4/4 [==============================] - 0s 6ms/step - loss: 1.0874 - accuracy: 0.7755\n",
            "Epoch 83/100\n",
            "4/4 [==============================] - 0s 4ms/step - loss: 1.0346 - accuracy: 0.8367\n",
            "Epoch 84/100\n",
            "4/4 [==============================] - 0s 5ms/step - loss: 1.0377 - accuracy: 0.8061\n",
            "Epoch 85/100\n",
            "4/4 [==============================] - 0s 4ms/step - loss: 1.0587 - accuracy: 0.7449\n",
            "Epoch 86/100\n",
            "4/4 [==============================] - 0s 5ms/step - loss: 0.9465 - accuracy: 0.8163\n",
            "Epoch 87/100\n",
            "4/4 [==============================] - 0s 4ms/step - loss: 0.9583 - accuracy: 0.8163\n",
            "Epoch 88/100\n",
            "4/4 [==============================] - 0s 4ms/step - loss: 0.8611 - accuracy: 0.8878\n",
            "Epoch 89/100\n",
            "4/4 [==============================] - 0s 4ms/step - loss: 0.8746 - accuracy: 0.8571\n",
            "Epoch 90/100\n",
            "4/4 [==============================] - 0s 5ms/step - loss: 0.9414 - accuracy: 0.8469\n",
            "Epoch 91/100\n",
            "4/4 [==============================] - 0s 5ms/step - loss: 0.8756 - accuracy: 0.8673\n",
            "Epoch 92/100\n",
            "4/4 [==============================] - 0s 5ms/step - loss: 0.9422 - accuracy: 0.8367\n",
            "Epoch 93/100\n",
            "1/4 [======>.......................] - ETA: 0s - loss: 0.8417 - accuracy: 0.8750\n",
            "\n",
            "Accuracy Has Been Achieved Around 90%, Training Stop!\n",
            "\n",
            "4/4 [==============================] - 0s 5ms/step - loss: 0.7596 - accuracy: 0.9082\n"
          ]
        }
      ]
    },
    {
      "cell_type": "markdown",
      "source": [
        "# **Inference**"
      ],
      "metadata": {
        "id": "ZVaaCfFDo6I9"
      }
    },
    {
      "cell_type": "code",
      "source": [
        "while(True):  \n",
        "  user_input = input(\"Input Sentence : \")\n",
        "  if user_input == 'exit':\n",
        "    break\n",
        "\n",
        "  user_input = [w for w in user_input.split() if w not in stopwords]\n",
        "  user_input = \" \".join(user_input)\n",
        "  user_input = re.sub(r'[.,’\"\\'-?:!;]', '', user_input)\n",
        "  user_input = re.sub(r'^whats|^im', '', user_input)\n",
        "  user_input = user_input.strip()\n",
        "\n",
        "  result = model.predict(pad_sequences(tokenizer.texts_to_sequences([user_input]),\n",
        "                                              truncating='post', maxlen=100))\n",
        "\n",
        "  bot_reply = lb.inverse_transform([np.argmax(result)])\n",
        "  print(f\"Bot : {bot_reply[0]}\")"
      ],
      "metadata": {
        "id": "F9dO4MiyqDer",
        "colab": {
          "base_uri": "https://localhost:8080/"
        },
        "outputId": "7b1aecd7-9428-4c9b-e31a-e40cb7abfd15"
      },
      "execution_count": null,
      "outputs": [
        {
          "name": "stdout",
          "output_type": "stream",
          "text": [
            "Input Sentence : what does mental illness mean ?\n",
            "Bot : mental illnesses are health conditions that disrupt a persons thoughts, emotions, relationships, and daily functioning. they are associated with distress and diminished capacity to engage in the ordinary activities of daily life. mental illnesses fall along a continuum of severity: some are fairly mild and only interfere with some aspects of life, such as certain phobias. on the other end of the spectrum lie serious mental illnesses, which result in major functional impairment and interference with daily life. these include such disorders as major depression, schizophrenia, and bipolar disorder, and may require that the person receives care in a hospital. it is important to know that mental illnesses are medical conditions that have nothing to do with a persons character, intelligence, or willpower. just as diabetes is a disorder of the pancreas, mental illness is a medical condition due to the brains biology. similarly to how one would treat diabetes with medication and insulin, mental illness is treatable with a combination of medication and social support. these treatments are highly effective, with 70-90 percent of individuals receiving treatment experiencing a reduction in symptoms and an improved quality of life. with the proper treatment, it is very possible for a person with mental illness to be independent and successful.\n",
            "Input Sentence : who should i contact to ?\n",
            "Bot : to find a family doctor (general physician), visit the college of physicians and surgeons of bc to use their find a physician tool. you can also see a family doctor at a local walk-in clinic, though its helpful to find a regular doctor if you have ongoing care needs. you can also find a psychiatrist through the college of physicians and surgeons of bc. be aware that you almost always need a doctors referral to see a psychiatrist. you can find a registered psychologist through the bc psychological association and the college of psychologists of bc. to find a clinical counsellor, visit the bc association of clinical counsellors. for more on the differences between these service providers, see the article the right path for you: finding your way to and through services in bc from the finding the right help  navigating the system issue of visions journal.\n",
            "Input Sentence : exit\n"
          ]
        }
      ]
    },
    {
      "cell_type": "markdown",
      "source": [
        "# **Save Model**"
      ],
      "metadata": {
        "id": "9CWOp-o5o_dL"
      }
    },
    {
      "cell_type": "code",
      "source": [
        "# model.save(\"capstone_model\")"
      ],
      "metadata": {
        "id": "gJ76SKmNW2Tz"
      },
      "execution_count": null,
      "outputs": []
    },
    {
      "cell_type": "code",
      "source": [
        "# import pickle\n",
        "# with open('tokenizer.pickle', 'wb') as handle:\n",
        "#     pickle.dump(tokenizer, handle, protocol=pickle.HIGHEST_PROTOCOL)\n",
        "# with open('label_encoder.pickle', 'wb') as f:\n",
        "#     pickle.dump(lb, f, protocol=pickle.HIGHEST_PROTOCOL)\\\n",
        "# with open('model.pkl', 'wb') as f:\n",
        "#     pickle.dump(model, f, protocol=pickle.HIGHEST_PROTOCOL)"
      ],
      "metadata": {
        "id": "2ecAeh07XJB0"
      },
      "execution_count": null,
      "outputs": []
    }
  ]
}