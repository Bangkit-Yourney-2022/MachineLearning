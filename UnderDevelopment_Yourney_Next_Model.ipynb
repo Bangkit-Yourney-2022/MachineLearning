{
  "cells": [
    {
      "cell_type": "markdown",
      "metadata": {
        "id": "8YmfR_9S-he_"
      },
      "source": [
        "# **Import Library**"
      ]
    },
    {
      "cell_type": "code",
      "execution_count": null,
      "metadata": {
        "id": "IqtjwVpv-fNq"
      },
      "outputs": [],
      "source": [
        "import numpy as np\n",
        "import pandas as pd\n",
        "import re\n",
        "import tensorflow as tf\n",
        "from keras.callbacks import Callback\n",
        "from keras.preprocessing.text import Tokenizer \n",
        "from keras.preprocessing.sequence import pad_sequences\n",
        "import keras\n",
        "from keras.models import Model\n",
        "from sklearn.model_selection import train_test_split\n",
        "from keras.layers import Input, LSTM, Dense, Dropout, TimeDistributed, Embedding, Concatenate, Bidirectional, AdditiveAttention\n",
        "from keras.utils.vis_utils import plot_model\n",
        "from keras import backend as K "
      ]
    },
    {
      "cell_type": "markdown",
      "metadata": {
        "id": "J2QKTenS-s3G"
      },
      "source": [
        "# **Read and Load File**"
      ]
    },
    {
      "cell_type": "code",
      "source": [
        "!wget http://nlp.stanford.edu/data/glove.6B.zip"
      ],
      "metadata": {
        "colab": {
          "base_uri": "https://localhost:8080/"
        },
        "id": "MjJe8mDj_aKC",
        "outputId": "32e53ed4-f706-4482-b05f-bf21b3128a79"
      },
      "execution_count": null,
      "outputs": [
        {
          "output_type": "stream",
          "name": "stdout",
          "text": [
            "--2022-06-09 03:21:18--  http://nlp.stanford.edu/data/glove.6B.zip\n",
            "Resolving nlp.stanford.edu (nlp.stanford.edu)... 171.64.67.140\n",
            "Connecting to nlp.stanford.edu (nlp.stanford.edu)|171.64.67.140|:80... connected.\n",
            "HTTP request sent, awaiting response... 302 Found\n",
            "Location: https://nlp.stanford.edu/data/glove.6B.zip [following]\n",
            "--2022-06-09 03:21:18--  https://nlp.stanford.edu/data/glove.6B.zip\n",
            "Connecting to nlp.stanford.edu (nlp.stanford.edu)|171.64.67.140|:443... connected.\n",
            "HTTP request sent, awaiting response... 301 Moved Permanently\n",
            "Location: http://downloads.cs.stanford.edu/nlp/data/glove.6B.zip [following]\n",
            "--2022-06-09 03:21:18--  http://downloads.cs.stanford.edu/nlp/data/glove.6B.zip\n",
            "Resolving downloads.cs.stanford.edu (downloads.cs.stanford.edu)... 171.64.64.22\n",
            "Connecting to downloads.cs.stanford.edu (downloads.cs.stanford.edu)|171.64.64.22|:80... connected.\n",
            "HTTP request sent, awaiting response... 200 OK\n",
            "Length: 862182613 (822M) [application/zip]\n",
            "Saving to: ‘glove.6B.zip’\n",
            "\n",
            "glove.6B.zip        100%[===================>] 822.24M  5.20MB/s    in 2m 39s  \n",
            "\n",
            "2022-06-09 03:23:57 (5.17 MB/s) - ‘glove.6B.zip’ saved [862182613/862182613]\n",
            "\n"
          ]
        }
      ]
    },
    {
      "cell_type": "code",
      "source": [
        "!unzip glove.6B.zip"
      ],
      "metadata": {
        "colab": {
          "base_uri": "https://localhost:8080/"
        },
        "id": "uBczbn1xAwcF",
        "outputId": "e4c10250-a426-446f-c7ef-6add43bd619b"
      },
      "execution_count": null,
      "outputs": [
        {
          "output_type": "stream",
          "name": "stdout",
          "text": [
            "Archive:  glove.6B.zip\n",
            "  inflating: glove.6B.50d.txt        \n",
            "  inflating: glove.6B.100d.txt       \n",
            "  inflating: glove.6B.200d.txt       \n",
            "  inflating: glove.6B.300d.txt       \n"
          ]
        }
      ]
    },
    {
      "cell_type": "code",
      "source": [
        "GLOVE_PATH = 'glove.6B.300d.txt'"
      ],
      "metadata": {
        "id": "dgg5cODUA3U4"
      },
      "execution_count": null,
      "outputs": []
    },
    {
      "cell_type": "code",
      "execution_count": null,
      "metadata": {
        "id": "wPAVGopB-vnC"
      },
      "outputs": [],
      "source": [
        "df = pd.read_csv('Mental_Health_FAQ.csv')"
      ]
    },
    {
      "cell_type": "code",
      "execution_count": null,
      "metadata": {
        "id": "YvrdkFEL_O5k"
      },
      "outputs": [],
      "source": [
        "df.drop('Question_ID', axis=1, inplace=True)"
      ]
    },
    {
      "cell_type": "code",
      "execution_count": null,
      "metadata": {
        "id": "JAoC4ShOrlg4"
      },
      "outputs": [],
      "source": [
        "stopwords = []\n",
        "with open('stopwords.txt', encoding='utf-8') as f:\n",
        "  for line in f:\n",
        "    stopwords.append(line.strip())"
      ]
    },
    {
      "cell_type": "markdown",
      "source": [
        ""
      ],
      "metadata": {
        "id": "GTkvkRHOaSzG"
      }
    },
    {
      "cell_type": "markdown",
      "metadata": {
        "id": "J2rhfvjTmZAX"
      },
      "source": [
        "# **PreProcessing**"
      ]
    },
    {
      "cell_type": "code",
      "execution_count": null,
      "metadata": {
        "id": "jpawkoDWmalw"
      },
      "outputs": [],
      "source": [
        "def remove_stopwords(df):\n",
        "  df = df.apply(lambda w: \" \".join([x for x in w.lower().split() if x not in stopwords]))\n",
        "  return df"
      ]
    },
    {
      "cell_type": "code",
      "execution_count": null,
      "metadata": {
        "id": "hcafWzC1sXwn"
      },
      "outputs": [],
      "source": [
        "def remove_punctuation(df):\n",
        "  df = df.apply(lambda w: \" \".join([re.sub('[.,’\"\\'-?:!;()*%]', '', x) for x in w.split()]))\n",
        "  return df"
      ]
    },
    {
      "cell_type": "code",
      "execution_count": null,
      "metadata": {
        "id": "eJIFIJy7uw7b"
      },
      "outputs": [],
      "source": [
        "def normalize_text(df):\n",
        "  df = df.apply(lambda w: \" \".join([x.encode(\"ascii\", \"ignore\").decode() for x in w.split()])) \n",
        "  return df"
      ]
    },
    {
      "cell_type": "code",
      "execution_count": null,
      "metadata": {
        "id": "0UEFCh2ODau_"
      },
      "outputs": [],
      "source": [
        "df['Questions'] = remove_punctuation(df['Questions'])\n",
        "df['Answers'] = remove_punctuation(df['Answers'])"
      ]
    },
    {
      "cell_type": "code",
      "execution_count": null,
      "metadata": {
        "id": "rACADOLFtgiO"
      },
      "outputs": [],
      "source": [
        "df['Answers'] = normalize_text(df['Answers'])\n",
        "df['Questions'] = normalize_text(df['Questions'])"
      ]
    },
    {
      "cell_type": "code",
      "execution_count": null,
      "metadata": {
        "id": "mWdEDWSqncBn"
      },
      "outputs": [],
      "source": [
        "# df['Questions'] = remove_stopwords(df['Questions'])"
      ]
    },
    {
      "cell_type": "code",
      "execution_count": null,
      "metadata": {
        "id": "eAg_HKQfsHwZ"
      },
      "outputs": [],
      "source": [
        "df['Answers'] = \"<START> \" + df['Answers'] + \" <END>\""
      ]
    },
    {
      "cell_type": "code",
      "source": [
        "questions_max_len = max([len(x.split()) for x in df['Questions']])\n",
        "answers_max_len = max([len(x.split()) for x in df['Answers']])"
      ],
      "metadata": {
        "id": "CJJWLaonY1S7"
      },
      "execution_count": null,
      "outputs": []
    },
    {
      "cell_type": "markdown",
      "metadata": {
        "id": "llhev9EqO4SX"
      },
      "source": [
        "# **Train Test Split**"
      ]
    },
    {
      "cell_type": "code",
      "execution_count": null,
      "metadata": {
        "id": "Ve1UuD4GO7BD"
      },
      "outputs": [],
      "source": [
        "# train_data, test_data, train_label, test_label = train_test_split(df['Questions'], df['Answers'], train_size = 0.7, random_state = 11, shuffle = True)"
      ]
    },
    {
      "cell_type": "markdown",
      "metadata": {
        "id": "9bs3FG8cxfFT"
      },
      "source": [
        "# **Tokenizing And Padding**"
      ]
    },
    {
      "cell_type": "markdown",
      "metadata": {
        "id": "f76rOaCxxi64"
      },
      "source": [
        "Questions"
      ]
    },
    {
      "cell_type": "code",
      "execution_count": null,
      "metadata": {
        "id": "eyfqvRJdxhJo"
      },
      "outputs": [],
      "source": [
        "questions_tokenizer = Tokenizer(oov_token='<OOV>')\n",
        "questions_tokenizer.fit_on_texts(df['Questions'])\n",
        "questions_totalWords = len(questions_tokenizer.word_index) + 1\n",
        "\n",
        "train_data = questions_tokenizer.texts_to_sequences(df['Questions'])\n",
        "# test_data = questions_tokenizer.texts_to_sequences(test_data)\n",
        "\n",
        "train_data = pad_sequences(train_data, maxlen=questions_max_len, padding='post')\n",
        "# test_data = pad_sequences(test_data, maxlen=questions_max_len, padding='post')"
      ]
    },
    {
      "cell_type": "code",
      "source": [
        "questions_totalWords"
      ],
      "metadata": {
        "colab": {
          "base_uri": "https://localhost:8080/"
        },
        "id": "GEyOXa4WtoRg",
        "outputId": "e9654d8e-bbac-4b86-c916-12e103c4410b"
      },
      "execution_count": null,
      "outputs": [
        {
          "output_type": "execute_result",
          "data": {
            "text/plain": [
              "258"
            ]
          },
          "metadata": {},
          "execution_count": 90
        }
      ]
    },
    {
      "cell_type": "markdown",
      "metadata": {
        "id": "GCSSMH75zvG9"
      },
      "source": [
        "Answers"
      ]
    },
    {
      "cell_type": "code",
      "execution_count": null,
      "metadata": {
        "id": "tg2asEJ8zv8e"
      },
      "outputs": [],
      "source": [
        "answers_tokenizer = Tokenizer(oov_token='<OOV>')\n",
        "answers_tokenizer.fit_on_texts(df['Answers'])\n",
        "answers_totalWords = len(answers_tokenizer.word_index) + 1\n",
        "\n",
        "train_label = answers_tokenizer.texts_to_sequences(df['Answers'])\n",
        "# test_label = answers_tokenizer.texts_to_sequences(test_label)\n",
        "\n",
        "train_label = pad_sequences(train_label, maxlen=answers_max_len, padding='post')\n",
        "# test_label = pad_sequences(test_label, maxlen=answers_max_len, padding='post')"
      ]
    },
    {
      "cell_type": "code",
      "source": [
        "answers_totalWords"
      ],
      "metadata": {
        "colab": {
          "base_uri": "https://localhost:8080/"
        },
        "id": "8ZUo-BqTWU0-",
        "outputId": "c44b842b-955d-4bfd-ff17-153a989488f7"
      },
      "execution_count": null,
      "outputs": [
        {
          "output_type": "execute_result",
          "data": {
            "text/plain": [
              "2796"
            ]
          },
          "metadata": {},
          "execution_count": 92
        }
      ]
    },
    {
      "cell_type": "markdown",
      "source": [
        "# **GLOve Word Embedding**"
      ],
      "metadata": {
        "id": "xUPXFZj8A6ba"
      }
    },
    {
      "cell_type": "code",
      "source": [
        "GLOVE_EMBEDDINGS = {}\n",
        "\n",
        "with open(GLOVE_PATH) as f:\n",
        "    for line in f:\n",
        "        values = line.split()\n",
        "        word = values[0]\n",
        "        coefs = np.asarray(values[1:], dtype='float32')\n",
        "        GLOVE_EMBEDDINGS[word] = coefs"
      ],
      "metadata": {
        "id": "L1M327BwA9I5"
      },
      "execution_count": null,
      "outputs": []
    },
    {
      "cell_type": "code",
      "source": [
        "EMBEDDINGS_MATRIX_QUESTIONS = np.zeros((questions_totalWords, 300))\n",
        "\n",
        "for word, i in questions_tokenizer.word_index.items():\n",
        "    embedding_vector = GLOVE_EMBEDDINGS.get(word)\n",
        "    if embedding_vector is not None:\n",
        "        EMBEDDINGS_MATRIX_QUESTIONS[i] = embedding_vector"
      ],
      "metadata": {
        "id": "_rGduhkdBEGu"
      },
      "execution_count": null,
      "outputs": []
    },
    {
      "cell_type": "code",
      "source": [
        "EMBEDDINGS_MATRIX_ANSWERS = np.zeros((answers_totalWords, 300))\n",
        "\n",
        "for word, i in answers_tokenizer.word_index.items():\n",
        "    embedding_vector = GLOVE_EMBEDDINGS.get(word)\n",
        "    if embedding_vector is not None:\n",
        "        EMBEDDINGS_MATRIX_ANSWERS[i] = embedding_vector"
      ],
      "metadata": {
        "id": "7Pj9GyzzCNKp"
      },
      "execution_count": null,
      "outputs": []
    },
    {
      "cell_type": "markdown",
      "source": [
        "# **Callback**"
      ],
      "metadata": {
        "id": "kMv563dIRhVX"
      }
    },
    {
      "cell_type": "code",
      "source": [
        "class Callback(Callback):\n",
        "    def on_epoch_end(self, epoch, logs={}):\n",
        "        if logs.get('acc') is not None and logs.get('acc') > 0.99:\n",
        "            self.model.stop_training = True"
      ],
      "metadata": {
        "id": "PnQpgFphBBdP"
      },
      "execution_count": null,
      "outputs": []
    },
    {
      "cell_type": "markdown",
      "source": [
        "# **Model Attention**"
      ],
      "metadata": {
        "id": "WKO8L86XeFgM"
      }
    },
    {
      "cell_type": "code",
      "source": [
        "# K.clear_session() \n",
        "# latent_dim = 300 \n",
        "\n",
        "# # Encoder \n",
        "# encoder_inputs = Input(shape=(questions_max_len,)) \n",
        "# enc_emb = Embedding(questions_totalWords, latent_dim,trainable=True, weights=[EMBEDDINGS_MATRIX_QUESTIONS])(encoder_inputs) \n",
        "# enc_emb = Dropout(0.5)(enc_emb)\n",
        "\n",
        "# encoder_lstm1 = LSTM(latent_dim,return_sequences=True,return_state=True)\n",
        "# encoder_outputs, state_h, state_c = encoder_lstm1(enc_emb) \n",
        "\n",
        "# # Decoder. \n",
        "# decoder_inputs = Input(shape=(None,)) \n",
        "# dec_emb_layer = Embedding(answers_totalWords, latent_dim,trainable=True, weights=[EMBEDDINGS_MATRIX_ANSWERS])(decoder_inputs) \n",
        "# dec_emb_layer = Dropout(0.5)(dec_emb_layer)\n",
        "\n",
        "# encoder_states = [state_h, state_c]\n",
        "\n",
        "# decoder_lstm = LSTM(latent_dim, return_sequences=True)\n",
        "# decoder_outputs = decoder_lstm(dec_emb_layer,initial_state=encoder_states) \n",
        "\n",
        "# # Attention Layer\n",
        "# attn_out = AdditiveAttention(512)([decoder_outputs, encoder_outputs]) \n",
        "# decoder_concat_input = Concatenate(axis=-1)([decoder_outputs, attn_out])\n",
        "\n",
        "# # Dense layer\n",
        "# decoder_dense = TimeDistributed(Dense(answers_totalWords, activation='softmax')) \n",
        "# decoder_outputs = decoder_dense(decoder_concat_input) \n",
        "\n",
        "# # Define the model\n",
        "# model = Model([encoder_inputs, decoder_inputs], decoder_outputs) \n",
        "# model.summary()"
      ],
      "metadata": {
        "id": "ThV92KuieJxA"
      },
      "execution_count": null,
      "outputs": []
    },
    {
      "cell_type": "markdown",
      "source": [
        "# **Bi-LSTM Model Attention**"
      ],
      "metadata": {
        "id": "ukbtbr3KuhTa"
      }
    },
    {
      "cell_type": "code",
      "source": [
        "K.clear_session() \n",
        "latent_dim = 300 \n",
        "\n",
        "# Encoder \n",
        "encoder_inputs = Input(shape=(questions_max_len,)) \n",
        "enc_emb = Embedding(questions_totalWords, latent_dim,trainable=True, weights=[EMBEDDINGS_MATRIX_QUESTIONS])(encoder_inputs) \n",
        "# enc_emb = Dropout(0.4)(enc_emb)\n",
        "\n",
        "encoder_lstm1 = Bidirectional(LSTM(latent_dim,return_sequences=True,return_state=True))\n",
        "encoder_outputs, for_state_h, for_state_c, back_state_h, back_state_c = encoder_lstm1(enc_emb) \n",
        "\n",
        "# Decoder. \n",
        "decoder_inputs = Input(shape=(None,)) \n",
        "dec_emb_layer = Embedding(answers_totalWords, latent_dim,trainable=True, weights=[EMBEDDINGS_MATRIX_ANSWERS])(decoder_inputs) \n",
        "# dec_emb_layer = Dropout(0.2)(dec_emb_layer)\n",
        "\n",
        "encoder_states = [for_state_h, for_state_c, back_state_h, back_state_c]\n",
        "\n",
        "decoder_lstm = Bidirectional(LSTM(latent_dim, return_sequences=True)) \n",
        "decoder_outputs = decoder_lstm(dec_emb_layer,initial_state=encoder_states) \n",
        "\n",
        "# Attention Layer\n",
        "attn_out = AdditiveAttention(512)([decoder_outputs, encoder_outputs]) \n",
        "decoder_concat_input = Concatenate(axis=-1)([decoder_outputs, attn_out])\n",
        "\n",
        "# Dense layer\n",
        "decoder_dense = TimeDistributed(Dense(answers_totalWords, activation='softmax')) \n",
        "decoder_outputs = decoder_dense(decoder_concat_input) \n",
        "\n",
        "# Define the model\n",
        "model = Model([encoder_inputs, decoder_inputs], decoder_outputs) \n",
        "model.summary()"
      ],
      "metadata": {
        "id": "cyUg7GEfujXZ",
        "colab": {
          "base_uri": "https://localhost:8080/"
        },
        "outputId": "40a5ad02-c723-4a03-b91a-9fa9b05a55b0"
      },
      "execution_count": null,
      "outputs": [
        {
          "output_type": "stream",
          "name": "stdout",
          "text": [
            "Model: \"model\"\n",
            "__________________________________________________________________________________________________\n",
            " Layer (type)                   Output Shape         Param #     Connected to                     \n",
            "==================================================================================================\n",
            " input_1 (InputLayer)           [(None, 37)]         0           []                               \n",
            "                                                                                                  \n",
            " input_2 (InputLayer)           [(None, None)]       0           []                               \n",
            "                                                                                                  \n",
            " embedding (Embedding)          (None, 37, 300)      77400       ['input_1[0][0]']                \n",
            "                                                                                                  \n",
            " embedding_1 (Embedding)        (None, None, 300)    838800      ['input_2[0][0]']                \n",
            "                                                                                                  \n",
            " bidirectional (Bidirectional)  [(None, 37, 600),    1442400     ['embedding[0][0]']              \n",
            "                                 (None, 300),                                                     \n",
            "                                 (None, 300),                                                     \n",
            "                                 (None, 300),                                                     \n",
            "                                 (None, 300)]                                                     \n",
            "                                                                                                  \n",
            " bidirectional_1 (Bidirectional  (None, None, 600)   1442400     ['embedding_1[0][0]',            \n",
            " )                                                                'bidirectional[0][1]',          \n",
            "                                                                  'bidirectional[0][2]',          \n",
            "                                                                  'bidirectional[0][3]',          \n",
            "                                                                  'bidirectional[0][4]']          \n",
            "                                                                                                  \n",
            " additive_attention (AdditiveAt  (None, None, 600)   600         ['bidirectional_1[0][0]',        \n",
            " tention)                                                         'bidirectional[0][0]']          \n",
            "                                                                                                  \n",
            " concatenate (Concatenate)      (None, None, 1200)   0           ['bidirectional_1[0][0]',        \n",
            "                                                                  'additive_attention[0][0]']     \n",
            "                                                                                                  \n",
            " time_distributed (TimeDistribu  (None, None, 2796)  3357996     ['concatenate[0][0]']            \n",
            " ted)                                                                                             \n",
            "                                                                                                  \n",
            "==================================================================================================\n",
            "Total params: 7,159,596\n",
            "Trainable params: 7,159,596\n",
            "Non-trainable params: 0\n",
            "__________________________________________________________________________________________________\n"
          ]
        }
      ]
    },
    {
      "cell_type": "markdown",
      "metadata": {
        "id": "39suaeFL0Q6m"
      },
      "source": [
        "# **Model Without Attention**"
      ]
    },
    {
      "cell_type": "code",
      "execution_count": null,
      "metadata": {
        "id": "Fv7BgSUj0Tud"
      },
      "outputs": [],
      "source": [
        "# from keras import backend as K \n",
        "# K.clear_session() \n",
        "# latent_dim = 300 \n",
        "\n",
        "# # Encoder \n",
        "# encoder_inputs = Input(shape=(questions_max_len,)) \n",
        "# enc_emb = Embedding(questions_totalWords, latent_dim,trainable=True, weights=[EMBEDDINGS_MATRIX_QUESTIONS])(encoder_inputs) \n",
        " \n",
        "# encoder_lstm1 = tf.keras.layers.Bidirectional(LSTM(latent_dim,return_sequences=True,return_state=True))\n",
        "# encoder_output1, for_h1, for_c1, back_h1, back_c1 = encoder_lstm1(enc_emb) \n",
        " \n",
        "# encoder_lstm2 = tf.keras.layers.Bidirectional(LSTM(latent_dim,return_sequences=True,return_state=True))\n",
        "# encoder_output2, for_h2, for_c2, back_h2, back_c2 = encoder_lstm2(encoder_output1) \n",
        " \n",
        "# encoder_lstm3 = tf.keras.layers.Bidirectional(LSTM(latent_dim, return_state=True, return_sequences=True))\n",
        "# encoder_outputs, for_h_final, for_c_final, back_h_final, back_c_final= encoder_lstm3(encoder_output2) \n",
        "\n",
        "# # Decoder Input \n",
        "# decoder_inputs = Input(shape=(None,)) \n",
        "# dec_emb_layer = Embedding(answers_totalWords, latent_dim,trainable=True, weights=[EMBEDDINGS_MATRIX_ANSWERS]) \n",
        "# dec_emb = dec_emb_layer(decoder_inputs) \n",
        "\n",
        "# # EncoderState\n",
        "# encoder_states = [for_h_final, for_c_final, back_h_final, back_c_final]\n",
        "\n",
        "# # Decoder\n",
        "# decoder_lstm = tf.keras.layers.Bidirectional(LSTM(latent_dim, return_sequences=True))\n",
        "# decoder_outputs = decoder_lstm(dec_emb,initial_state=encoder_states) \n",
        "\n",
        "# decoder_lstm = tf.keras.layers.Bidirectional(LSTM(latent_dim, return_sequences=True))\n",
        "# decoder_outputs = decoder_lstm(decoder_outputs)\n",
        "\n",
        "# #Dense layer\n",
        "# decoder_dense = Dense(8182, activation='relu')\n",
        "# decoder_outputs = decoder_dense(decoder_outputs) \n",
        "\n",
        "# decoder_outputs = tf.keras.layers.Dropout(0.2)(decoder_outputs)\n",
        "\n",
        "# decoder_dense = Dense(4096, activation='relu')\n",
        "# decoder_outputs = decoder_dense(decoder_outputs) \n",
        "\n",
        "# decoder_outputs = tf.keras.layers.Dropout(0.2)(decoder_outputs)\n",
        "\n",
        "# decoder_dense = Dense(2048, activation='relu')\n",
        "# decoder_outputs = decoder_dense(decoder_outputs) \n",
        "\n",
        "# decoder_outputs = tf.keras.layers.Dropout(0.2)(decoder_outputs)\n",
        "\n",
        "# decoder_dense = Dense(answers_totalWords, activation='softmax')\n",
        "# decoder_outputs = decoder_dense(decoder_outputs) \n",
        "\n",
        "# # Model\n",
        "# model = Model([encoder_inputs, decoder_inputs], decoder_outputs) \n",
        "# model.summary()"
      ]
    },
    {
      "cell_type": "markdown",
      "source": [
        "# **Compile & Train**"
      ],
      "metadata": {
        "id": "MkEYy1qNhhwo"
      }
    },
    {
      "cell_type": "code",
      "source": [
        "model = Model([encoder_inputs, decoder_inputs], decoder_outputs)\n",
        "model.compile(optimizer='adam', loss='sparse_categorical_crossentropy', metrics=['acc'])"
      ],
      "metadata": {
        "id": "GPQ70tzp96ve"
      },
      "execution_count": null,
      "outputs": []
    },
    {
      "cell_type": "code",
      "source": [
        "history = model.fit([train_data, train_label[:,:-1]], train_label[:,1:] ,epochs=50, batch_size=2, callbacks=[Callback()], validation_split=0.3)"
      ],
      "metadata": {
        "colab": {
          "base_uri": "https://localhost:8080/"
        },
        "id": "NQHJZzdXkrOQ",
        "outputId": "503c7753-333d-4681-8728-2f716f0b3061"
      },
      "execution_count": null,
      "outputs": [
        {
          "output_type": "stream",
          "name": "stdout",
          "text": [
            "Epoch 1/50\n",
            "34/34 [==============================] - 12s 231ms/step - loss: 2.2212 - acc: 0.8198 - val_loss: 1.6415 - val_acc: 0.7675\n",
            "Epoch 2/50\n",
            "34/34 [==============================] - 7s 196ms/step - loss: 0.9920 - acc: 0.8508 - val_loss: 1.5716 - val_acc: 0.7801\n",
            "Epoch 3/50\n",
            "34/34 [==============================] - 7s 196ms/step - loss: 0.9452 - acc: 0.8583 - val_loss: 1.5320 - val_acc: 0.7873\n",
            "Epoch 4/50\n",
            "34/34 [==============================] - 6s 185ms/step - loss: 0.8979 - acc: 0.8647 - val_loss: 1.4656 - val_acc: 0.7974\n",
            "Epoch 5/50\n",
            "34/34 [==============================] - 7s 198ms/step - loss: 0.8269 - acc: 0.8714 - val_loss: 1.3844 - val_acc: 0.8070\n",
            "Epoch 6/50\n",
            "34/34 [==============================] - 6s 186ms/step - loss: 0.7373 - acc: 0.8812 - val_loss: 1.3002 - val_acc: 0.8195\n",
            "Epoch 7/50\n",
            "34/34 [==============================] - 6s 186ms/step - loss: 0.6437 - acc: 0.8912 - val_loss: 1.2032 - val_acc: 0.8341\n",
            "Epoch 8/50\n",
            "34/34 [==============================] - 6s 187ms/step - loss: 0.5540 - acc: 0.9009 - val_loss: 1.1350 - val_acc: 0.8449\n",
            "Epoch 9/50\n",
            "34/34 [==============================] - 6s 187ms/step - loss: 0.4710 - acc: 0.9131 - val_loss: 1.0834 - val_acc: 0.8549\n",
            "Epoch 10/50\n",
            "34/34 [==============================] - 6s 186ms/step - loss: 0.4015 - acc: 0.9243 - val_loss: 1.0450 - val_acc: 0.8623\n",
            "Epoch 11/50\n",
            "34/34 [==============================] - 6s 186ms/step - loss: 0.3341 - acc: 0.9365 - val_loss: 1.0095 - val_acc: 0.8704\n",
            "Epoch 12/50\n",
            "34/34 [==============================] - 6s 185ms/step - loss: 0.2736 - acc: 0.9494 - val_loss: 0.9756 - val_acc: 0.8765\n",
            "Epoch 13/50\n",
            "34/34 [==============================] - 7s 198ms/step - loss: 0.2180 - acc: 0.9627 - val_loss: 0.9588 - val_acc: 0.8800\n",
            "Epoch 14/50\n",
            "34/34 [==============================] - 7s 197ms/step - loss: 0.1725 - acc: 0.9744 - val_loss: 0.9280 - val_acc: 0.8863\n",
            "Epoch 15/50\n",
            "34/34 [==============================] - 6s 185ms/step - loss: 0.1309 - acc: 0.9825 - val_loss: 0.9194 - val_acc: 0.8892\n",
            "Epoch 16/50\n",
            "34/34 [==============================] - 7s 197ms/step - loss: 0.0986 - acc: 0.9893 - val_loss: 0.9047 - val_acc: 0.8935\n",
            "Epoch 17/50\n",
            "34/34 [==============================] - 6s 186ms/step - loss: 0.0743 - acc: 0.9938 - val_loss: 0.8980 - val_acc: 0.8955\n"
          ]
        }
      ]
    },
    {
      "cell_type": "markdown",
      "source": [
        "# **Plot**"
      ],
      "metadata": {
        "id": "T2wLkoQRd2Uo"
      }
    },
    {
      "cell_type": "code",
      "source": [
        "import matplotlib.pyplot as plt\n",
        "\n",
        "loss = history.history['loss']\n",
        "val_loss = history.history['val_loss']\n",
        "epochs = range(len(loss))\n",
        "\n",
        "plt.plot(epochs, loss, 'r', label='loss acc')\n",
        "plt.plot(epochs, val_loss, 'b', label='val loss')\n",
        "plt.title('Loss')\n",
        "plt.legend(loc='upper right')\n",
        "plt.xlabel('Epochs')\n",
        "plt.ylabel('Value')\n",
        "plt.show()"
      ],
      "metadata": {
        "id": "Mbkuer54d0xW",
        "colab": {
          "base_uri": "https://localhost:8080/"
        },
        "outputId": "7aee474d-a607-4567-f8c2-5f8848fd6f6a"
      },
      "execution_count": null,
      "outputs": [
        {
          "output_type": "display_data",
          "data": {
            "text/plain": [
              "<Figure size 432x288 with 1 Axes>"
            ],
            "image/png": "[encoded data removed]"
          },
          "metadata": {
            "needs_background": "light"
          }
        }
      ]
    },
    {
      "cell_type": "markdown",
      "source": [
        "# **Model Plot**"
      ],
      "metadata": {
        "id": "GP8mA73TvmZ8"
      }
    },
    {
      "cell_type": "code",
      "source": [
        "plot_model(model, to_file='model_plot.png', show_shapes=True, show_layer_names=True)"
      ],
      "metadata": {
        "colab": {
          "base_uri": "https://localhost:8080/"
        },
        "id": "EOQ2KbmxQQTn",
        "outputId": "274de1ad-ddb6-4f06-ddf7-7bc9cb14a59b"
      },
      "execution_count": null,
      "outputs": [
        {
          "output_type": "execute_result",
          "data": {
            "text/plain": [
              "<IPython.core.display.Image object>"
            ],
            "image/png": "[encoded data removed]"
          },
          "metadata": {},
          "execution_count": 113
        }
      ]
    },
    {
      "cell_type": "markdown",
      "source": [
        "# **Save Model**"
      ],
      "metadata": {
        "id": "kFoUFW6oVDLD"
      }
    },
    {
      "cell_type": "code",
      "source": [
        "model.save('BackupPlan.h5')"
      ],
      "metadata": {
        "id": "uxzwltGWVCjY"
      },
      "execution_count": null,
      "outputs": []
    }
  ],
  "metadata": {
    "accelerator": "GPU",
    "colab": {
      "collapsed_sections": [
        "39suaeFL0Q6m"
      ],
      "name": "Capstone v4.ipynb",
      "provenance": []
    },
    "kernelspec": {
      "display_name": "Python 3",
      "name": "python3"
    },
    "language_info": {
      "name": "python"
    }
  },
  "nbformat": 4,
  "nbformat_minor": 0
}